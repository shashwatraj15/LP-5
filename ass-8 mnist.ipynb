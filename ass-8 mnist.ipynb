{
 "cells": [
  {
   "cell_type": "code",
   "execution_count": 1,
   "metadata": {},
   "outputs": [],
   "source": [
    "import tensorflow as tf\n",
    "import matplotlib.pyplot as plt\n",
    "from tensorflow import keras\n",
    "import numpy as np"
   ]
  },
  {
   "cell_type": "code",
   "execution_count": 2,
   "metadata": {},
   "outputs": [],
   "source": [
    "(x_train, y_train), (x_test, y_test) = keras.datasets.fashion_mnist.load_data()\n",
    "# There are 10 image classes in this dataset and each class has a mapping corresponding to the following labels:\n",
    "#0 T-shirt/top\n",
    "#1 Trouser\n",
    "#2 pullover\n",
    "#3 Dress\n",
    "#4 Coat\n",
    "#5 sandals\n",
    "#6 shirt\n",
    "#7 sneaker\n",
    "#8 bag\n",
    "#9 ankle boot"
   ]
  },
  {
   "cell_type": "code",
   "execution_count": 3,
   "metadata": {},
   "outputs": [
    {
     "data": {
      "text/plain": [
       "<matplotlib.image.AxesImage at 0x27fb2effaf0>"
      ]
     },
     "execution_count": 3,
     "metadata": {},
     "output_type": "execute_result"
    },
    {
     "data": {
      "image/png": "[encoded data removed]",
      "text/plain": [
       "<Figure size 432x288 with 1 Axes>"
      ]
     },
     "metadata": {
      "needs_background": "light"
     },
     "output_type": "display_data"
    }
   ],
   "source": [
    "plt.imshow(x_train[1])"
   ]
  },
  {
   "cell_type": "code",
   "execution_count": 4,
   "metadata": {},
   "outputs": [
    {
     "data": {
      "text/plain": [
       "<matplotlib.image.AxesImage at 0x27fb2fb1b80>"
      ]
     },
     "execution_count": 4,
     "metadata": {},
     "output_type": "execute_result"
    },
    {
     "data": {
      "image/png": "[encoded data removed]",
      "text/plain": [
       "<Figure size 432x288 with 1 Axes>"
      ]
     },
     "metadata": {
      "needs_background": "light"
     },
     "output_type": "display_data"
    }
   ],
   "source": [
    "plt.imshow(x_train[0])"
   ]
  },
  {
   "cell_type": "code",
   "execution_count": 5,
   "metadata": {},
   "outputs": [],
   "source": [
    "# Next, we will preprocess the data by scaling the pixel values to be between 8 and 1, and then reshaping the images to be 28x28 pixels.\n",
    "\n",
    "x_train = x_train.astype('float32') / 255.0\n",
    "x_test = x_test.astype('float32') / 255.0\n",
    "\n",
    "x_train = x_train.reshape(-1, 28, 28, 1)\n",
    "x_test = x_test.reshape(-1, 28, 28, 1)\n",
    "\n",
    "# 28, 28 comes from width, height, 1 comes from the number of channels\n",
    "# -1 means that the length in that dimension is inferred.\n",
    "# This is done based on the constraint that the number of elements in an ndarray or Tensor when reshaped must remain the same.\n",
    "\n",
    "# each image is a row vector (784 elements) and there are lots of such rows (let it be n, so there are 784n elements). So TensorFlow can\n",
    "\n",
    "# converting the training_images array to 4 dimensional array with sizes 60068, 28, 28, 1 for @th to 3rd dimension"
   ]
  },
  {
   "cell_type": "code",
   "execution_count": 7,
   "metadata": {},
   "outputs": [
    {
     "name": "stdout",
     "output_type": "stream",
     "text": [
      "Model: \"sequential\"\n",
      "_________________________________________________________________\n",
      " Layer (type)                Output Shape              Param #   \n",
      "=================================================================\n",
      " conv2d (Conv2D)             (None, 26, 26, 32)        320       \n",
      "                                                                 \n",
      " max_pooling2d (MaxPooling2D  (None, 13, 13, 32)       0         \n",
      " )                                                               \n",
      "                                                                 \n",
      " dropout (Dropout)           (None, 13, 13, 32)        0         \n",
      "                                                                 \n",
      " conv2d_1 (Conv2D)           (None, 11, 11, 64)        18496     \n",
      "                                                                 \n",
      " max_pooling2d_1 (MaxPooling  (None, 5, 5, 64)         0         \n",
      " 2D)                                                             \n",
      "                                                                 \n",
      " dropout_1 (Dropout)         (None, 5, 5, 64)          0         \n",
      "                                                                 \n",
      " conv2d_2 (Conv2D)           (None, 3, 3, 128)         73856     \n",
      "                                                                 \n",
      " flatten (Flatten)           (None, 1152)              0         \n",
      "                                                                 \n",
      " dense (Dense)               (None, 128)               147584    \n",
      "                                                                 \n",
      " dropout_2 (Dropout)         (None, 128)               0         \n",
      "                                                                 \n",
      " dense_1 (Dense)             (None, 10)                1290      \n",
      "                                                                 \n",
      "=================================================================\n",
      "Total params: 241,546\n",
      "Trainable params: 241,546\n",
      "Non-trainable params: 0\n",
      "_________________________________________________________________\n"
     ]
    }
   ],
   "source": [
    "# We will use a convolutional neural network (CNN) to classify the fashion items.\n",
    "# The CNN will consist of multiple convolutional layers followed by max pooling,\n",
    "# dropout, and dense layers. Here is the code for the model:\n",
    "\n",
    "model = keras.Sequential([\n",
    "  keras.layers.Conv2D(32, (3,3), activation='relu', input_shape=(28,28,1)),\n",
    "  # 32 filters (default), randomly initialized\n",
    "  # 3*3 is Size of Filter\n",
    "  # 28,28,1 size of Input Image\n",
    "  # No zero-padding: every output 2 pixels less in every dimension\n",
    "  # in Paramter shwon 320 is value of weights: (3x3 filter weights + 32 bias) * 32 filters\n",
    "  # 32*3*3-288(Total)+32(bias)= 320\n",
    "\n",
    "  keras.layers.MaxPooling2D((2,2)),\n",
    "  # It shown 13 * 13 size image with 32 channel or filter or depth.\n",
    "\n",
    "  keras.layers.Dropout(0.25),\n",
    "  # Reduce Overfitting of Training sample drop out 25% Neuron\n",
    "\n",
    "  keras.layers.Conv2D(64, (3,3), activation='relu'),\n",
    "  # Deeper layers use 64 filters\n",
    "  # 3*3 is Size of Filter\n",
    "  # Observe how the input image on 28x28x1 is transformed to a 3x3x64 feature map\n",
    "  # 13(Size)-3(Filter Size )+1(bias)=11 Size for Width and Height with 64 Depth or filtter or channel\n",
    "  # in Paramter shwon 18496 is value of weights: (3x3 filter weights + 64 bias) * 64 filters\n",
    "  # 64*3*3=576+1=577%32 + 32(bias)=18496\n",
    "\n",
    "  keras.layers.MaxPooling2D((2,2)),\n",
    "  # It shown 5 * 5 size image with 64 channel or filter or depth.\n",
    "\n",
    "  keras.layers.Dropout(0.25),\n",
    "\n",
    "  keras.layers.Conv2D(128, (3,3), activation='relu'),\n",
    "  # Deeper layers use 128 filters\n",
    "  # 3*3 is Size of Filter\n",
    "  # Observe how the lnput image on 28x28x1 is transformed to a 3x3x128 feature map\n",
    "  # It show 5(Size)-3(Filter Size )+1(bias)=3 Size for Width and Height with 64 Depth or filtter or channel\n",
    "  # 128*3*3=1152+1=1153*64 + 64(blas)= 73856\n",
    "\n",
    "  # To classify the images, we still need a Dense and Softmax layer.\n",
    "  # We need to flatten the 3x3x128 feature map to a vector of size 1152\n",
    "  # https://medium.com/@iamvarman/how-to-calculate-the-number-of-parameters-in-the-cnn-5bd55364d7ca\n",
    "\n",
    "  keras.layers.Flatten(),\n",
    "  keras.layers.Dense(128, activation='relu'),\n",
    "  # 128 Size of Node in Dense Layer\n",
    "  # 1152*128 = 147584\n",
    "\n",
    "  keras.layers.Dropout(0.25),\n",
    "  keras.layers.Dense(10, activation='softmax')\n",
    "  # 10 Size of Node another Dense Layer\n",
    "  # 128*10+1@ bias= 1290\n",
    "])\n",
    "\n",
    "model.summary()  "
   ]
  },
  {
   "cell_type": "code",
   "execution_count": 8,
   "metadata": {},
   "outputs": [
    {
     "name": "stdout",
     "output_type": "stream",
     "text": [
      "Epoch 1/10\n",
      "1875/1875 [==============================] - 33s 17ms/step - loss: 0.5732 - accuracy: 0.7880 - val_loss: 0.3825 - val_accuracy: 0.8602\n",
      "Epoch 2/10\n",
      "1875/1875 [==============================] - 33s 18ms/step - loss: 0.3751 - accuracy: 0.8625 - val_loss: 0.3360 - val_accuracy: 0.8791\n",
      "Epoch 3/10\n",
      "1875/1875 [==============================] - 34s 18ms/step - loss: 0.3282 - accuracy: 0.8805 - val_loss: 0.3017 - val_accuracy: 0.8902\n",
      "Epoch 4/10\n",
      "1875/1875 [==============================] - 36s 19ms/step - loss: 0.3006 - accuracy: 0.8896 - val_loss: 0.2865 - val_accuracy: 0.8926\n",
      "Epoch 5/10\n",
      "1875/1875 [==============================] - 33s 18ms/step - loss: 0.2785 - accuracy: 0.8977 - val_loss: 0.2724 - val_accuracy: 0.9003\n",
      "Epoch 6/10\n",
      "1875/1875 [==============================] - 32s 17ms/step - loss: 0.2652 - accuracy: 0.9016 - val_loss: 0.2586 - val_accuracy: 0.9042\n",
      "Epoch 7/10\n",
      "1875/1875 [==============================] - 32s 17ms/step - loss: 0.2558 - accuracy: 0.9043 - val_loss: 0.2460 - val_accuracy: 0.9095\n",
      "Epoch 8/10\n",
      "1875/1875 [==============================] - 33s 18ms/step - loss: 0.2444 - accuracy: 0.9092 - val_loss: 0.2502 - val_accuracy: 0.9076\n",
      "Epoch 9/10\n",
      "1875/1875 [==============================] - 33s 18ms/step - loss: 0.2361 - accuracy: 0.9099 - val_loss: 0.2489 - val_accuracy: 0.9096\n",
      "Epoch 10/10\n",
      "1875/1875 [==============================] - 34s 18ms/step - loss: 0.2289 - accuracy: 0.9142 - val_loss: 0.2407 - val_accuracy: 0.9113\n"
     ]
    }
   ],
   "source": [
    "# Compile and Train the Model\n",
    "# After defining the model, we will compile it and train it on the training data.\n",
    "model.compile(optimizer='adam', loss='sparse_categorical_crossentropy', metrics=['accuracy'])\n",
    "\n",
    "history = model.fit(x_train, y_train, epochs=10, validation_data=(x_test,y_test))\n",
    "# 1875 is a number of batches. By default batches contain 32 samles.60000\n",
    "     "
   ]
  },
  {
   "cell_type": "code",
   "execution_count": 9,
   "metadata": {},
   "outputs": [
    {
     "name": "stdout",
     "output_type": "stream",
     "text": [
      "313/313 [==============================] - 1s 4ms/step - loss: 0.2407 - accuracy: 0.9113\n",
      "Test accuracy: 0.911300003528595\n"
     ]
    }
   ],
   "source": [
    "# Finally, we will evaluate the performance of the model on the test data.\n",
    "test_loss, test_acc = model.evaluate(x_test, y_test)\n",
    "print('Test accuracy:', test_acc)\n",
    "     "
   ]
  },
  {
   "cell_type": "code",
   "execution_count": null,
   "metadata": {},
   "outputs": [],
   "source": []
  }
 ],
 "metadata": {
  "kernelspec": {
   "display_name": "Python 3",
   "language": "python",
   "name": "python3"
  },
  "language_info": {
   "codemirror_mode": {
    "name": "ipython",
    "version": 3
   },
   "file_extension": ".py",
   "mimetype": "text/x-python",
   "name": "python",
   "nbconvert_exporter": "python",
   "pygments_lexer": "ipython3",
   "version": "3.8.3"
  }
 },
 "nbformat": 4,
 "nbformat_minor": 4
}
