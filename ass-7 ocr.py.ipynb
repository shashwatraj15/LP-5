{
 "cells": [
  {
   "cell_type": "code",
   "execution_count": 1,
   "metadata": {},
   "outputs": [],
   "source": [
    "import numpy as np\n",
    "from tensorflow.keras.models import Sequential\n",
    "from tensorflow.keras.layers import Dense, Dropout\n",
    "from tensorflow.keras.optimizers import RMSprop\n",
    "from tensorflow.keras.datasets import mnist\n",
    "import matplotlib.pyplot as plt\n",
    "from sklearn import metrics"
   ]
  },
  {
   "cell_type": "code",
   "execution_count": 3,
   "metadata": {},
   "outputs": [],
   "source": [
    "# Load the OCR dataset\n",
    "# The MNIST dataset is a built-in dataset provided by Keras.\n",
    "# It consists of 70,800 28x28 grayscale images, each of which displays a single handwritten digit from @ to 9.\n",
    "# The training set consists of 60,000 images, while the test set has 108,000 images.\n",
    "\n",
    "     "
   ]
  },
  {
   "cell_type": "code",
   "execution_count": 4,
   "metadata": {},
   "outputs": [],
   "source": [
    "(x_train, y_train), (x_test, y_test) = mnist.load_data()\n",
    "\n",
    "# X_traln and X_test are our array of images while y_train and y_test are our array of labels for each image.\n",
    "# The first tuple contains the training set features (X_ train) and the training set labels (y train).\n",
    "\n",
    "# The second tuple contains the testing set features (X_ test) and the testing set labels (y_test).\n",
    "\n",
    "# For example, if the image shows a handwritten 7, then the label will be the intger 7."
   ]
  },
  {
   "cell_type": "code",
   "execution_count": 5,
   "metadata": {},
   "outputs": [
    {
     "data": {
      "image/png": "[encoded data removed]",
      "text/plain": [
       "<Figure size 432x288 with 1 Axes>"
      ]
     },
     "metadata": {
      "needs_background": "light"
     },
     "output_type": "display_data"
    },
    {
     "name": "stdout",
     "output_type": "stream",
     "text": [
      "[[  0   0   0   0   0   0   0   0   0   0   0   0   0   0   0   0   0   0\n",
      "    0   0   0   0   0   0   0   0   0   0]\n",
      " [  0   0   0   0   0   0   0   0   0   0   0   0   0   0   0   0   0   0\n",
      "    0   0   0   0   0   0   0   0   0   0]\n",
      " [  0   0   0   0   0   0   0   0   0   0   0   0   0   0   0   0   0   0\n",
      "    0   0   0   0   0   0   0   0   0   0]\n",
      " [  0   0   0   0   0   0   0   0   0   0   0   0   0   0   0   0   0   0\n",
      "    0   0   0   0   0   0   0   0   0   0]\n",
      " [  0   0   0   0   0   0   0   0   0   0   0   0   0   0   0   0   0   0\n",
      "    0   0   0   0   0   0   0   0   0   0]\n",
      " [  0   0   0   0   0   0   0   0   0   0   0   0   3  18  18  18 126 136\n",
      "  175  26 166 255 247 127   0   0   0   0]\n",
      " [  0   0   0   0   0   0   0   0  30  36  94 154 170 253 253 253 253 253\n",
      "  225 172 253 242 195  64   0   0   0   0]\n",
      " [  0   0   0   0   0   0   0  49 238 253 253 253 253 253 253 253 253 251\n",
      "   93  82  82  56  39   0   0   0   0   0]\n",
      " [  0   0   0   0   0   0   0  18 219 253 253 253 253 253 198 182 247 241\n",
      "    0   0   0   0   0   0   0   0   0   0]\n",
      " [  0   0   0   0   0   0   0   0  80 156 107 253 253 205  11   0  43 154\n",
      "    0   0   0   0   0   0   0   0   0   0]\n",
      " [  0   0   0   0   0   0   0   0   0  14   1 154 253  90   0   0   0   0\n",
      "    0   0   0   0   0   0   0   0   0   0]\n",
      " [  0   0   0   0   0   0   0   0   0   0   0 139 253 190   2   0   0   0\n",
      "    0   0   0   0   0   0   0   0   0   0]\n",
      " [  0   0   0   0   0   0   0   0   0   0   0  11 190 253  70   0   0   0\n",
      "    0   0   0   0   0   0   0   0   0   0]\n",
      " [  0   0   0   0   0   0   0   0   0   0   0   0  35 241 225 160 108   1\n",
      "    0   0   0   0   0   0   0   0   0   0]\n",
      " [  0   0   0   0   0   0   0   0   0   0   0   0   0  81 240 253 253 119\n",
      "   25   0   0   0   0   0   0   0   0   0]\n",
      " [  0   0   0   0   0   0   0   0   0   0   0   0   0   0  45 186 253 253\n",
      "  150  27   0   0   0   0   0   0   0   0]\n",
      " [  0   0   0   0   0   0   0   0   0   0   0   0   0   0   0  16  93 252\n",
      "  253 187   0   0   0   0   0   0   0   0]\n",
      " [  0   0   0   0   0   0   0   0   0   0   0   0   0   0   0   0   0 249\n",
      "  253 249  64   0   0   0   0   0   0   0]\n",
      " [  0   0   0   0   0   0   0   0   0   0   0   0   0   0  46 130 183 253\n",
      "  253 207   2   0   0   0   0   0   0   0]\n",
      " [  0   0   0   0   0   0   0   0   0   0   0   0  39 148 229 253 253 253\n",
      "  250 182   0   0   0   0   0   0   0   0]\n",
      " [  0   0   0   0   0   0   0   0   0   0  24 114 221 253 253 253 253 201\n",
      "   78   0   0   0   0   0   0   0   0   0]\n",
      " [  0   0   0   0   0   0   0   0  23  66 213 253 253 253 253 198  81   2\n",
      "    0   0   0   0   0   0   0   0   0   0]\n",
      " [  0   0   0   0   0   0  18 171 219 253 253 253 253 195  80   9   0   0\n",
      "    0   0   0   0   0   0   0   0   0   0]\n",
      " [  0   0   0   0  55 172 226 253 253 253 253 244 133  11   0   0   0   0\n",
      "    0   0   0   0   0   0   0   0   0   0]\n",
      " [  0   0   0   0 136 253 253 253 212 135 132  16   0   0   0   0   0   0\n",
      "    0   0   0   0   0   0   0   0   0   0]\n",
      " [  0   0   0   0   0   0   0   0   0   0   0   0   0   0   0   0   0   0\n",
      "    0   0   0   0   0   0   0   0   0   0]\n",
      " [  0   0   0   0   0   0   0   0   0   0   0   0   0   0   0   0   0   0\n",
      "    0   0   0   0   0   0   0   0   0   0]\n",
      " [  0   0   0   0   0   0   0   0   0   0   0   0   0   0   0   0   0   0\n",
      "    0   0   0   0   0   0   0   0   0   0]]\n"
     ]
    }
   ],
   "source": [
    "plt.imshow(x_train[0], cmap='gray') # lmshow() function which simply displays an image.\n",
    "plt.show() # cmap is responsible for mapping a specific colormap to the values found in the array that you passed as the first argument.\n",
    "# image appears black and white and that each axis of the plot ranges from @ to 28.\n",
    "# This is because of the format that all the images in the dataset have:\n",
    "# 1. All the images are grayscale, meaning they only contain black, white and grey.\n",
    "# 2. The images are 28 pixels by 25 pixels in size (28x28).\n",
    "print(x_train[0])\n",
    "# image data is just an array of digits. You can almost make out a 5 from the pattern of the digits in the array.\n",
    "# Array of 28 values\n",
    "# a grayscale pixel is stored as a digit between © and 255 where © is black, 255 is white and values in between are different shades of g\n",
    "# Therefore, each value in the [28][28] array tells the computer which color to put in that position when we display the actual image."
   ]
  },
  {
   "cell_type": "code",
   "execution_count": 6,
   "metadata": {},
   "outputs": [
    {
     "name": "stdout",
     "output_type": "stream",
     "text": [
      "x_train shape (60000, 28, 28)\n",
      "y_train shape (60000,)\n",
      "x_test shape (10000, 28, 28)\n",
      "y_test shape (10000,)\n"
     ]
    }
   ],
   "source": [
    "# reformat our X_train array and our X_test array because they do not have the correct shape.\n",
    "# Reshape the data to fit the model\n",
    "print(\"x_train shape\", x_train.shape)\n",
    "print(\"y_train shape\", y_train.shape)\n",
    "print(\"x_test shape\", x_test.shape)\n",
    "print(\"y_test shape\", y_test.shape)"
   ]
  },
  {
   "cell_type": "code",
   "execution_count": 7,
   "metadata": {},
   "outputs": [],
   "source": [
    "# Here you can see that for the training sets we have 60,800 elements and the testing sets have 18,000 elements.\n",
    "# y_ train and y_test only have 1 dimensional shapes because they are just the labels of each element.\n",
    "# x_train and x_test have 3 dimensional shapes because they have a width and height (28x28 pixels) for each element.\n",
    "# (60000, 28, 28) 1st parameter in the tuple shows us how much image we have 2nd and 3rd parameters are the pixel values from x to y (28x\n",
    "# The pixel value varies between @ to 255.\n",
    "# (60000,) Training labels with integers from ©-9 with dtype of uint8. It has the shape (60009,).\n",
    "# (10000, 28, 28) Testing data that consists of grayscale images. It has the shape (10000, 28, 28) and the dtype of uintB. The pixel vali\n",
    "# (10e0@,) Testing labels that consist of integers from ©-9 with dtype uint8. It has the shape (10000).\n",
    "     \n",
    "\n",
    "# X: Training data of shape (n_samples, n_features)\n",
    "# y: Training label values of shape (n_samples, n_labels)\n",
    "# 2D array of height and width, 28 pixels by 28 pixels will just become 784 pixels (28 squared).\n",
    "# Remember that X_ train has 60,000 elemenets, each with 784 total pixels so will become shape (60208, 784).\n",
    "# Whereas X_test has 10,000 elements, each with each with 784 total pixels so will become shape (10800, 784)."
   ]
  },
  {
   "cell_type": "code",
   "execution_count": 8,
   "metadata": {},
   "outputs": [],
   "source": [
    "x_train = x_train.reshape(60000, 784)\n",
    "x_test = x_test.reshape(10000, 784)\n",
    "x_train = x_train.astype('float32') # use 32-bit precision when training a neural network, so at one point the training data will have tc\n",
    "x_test = x_test.astype('float32')\n",
    "x_train /= 255 # Each image has Intensity from @ to 255\n",
    "x_test /= 255"
   ]
  },
  {
   "cell_type": "code",
   "execution_count": 9,
   "metadata": {},
   "outputs": [],
   "source": [
    "# Regarding the division by 255, this is the maximum value of a byte (the input feature's type before the conversion to float32),\n",
    "# so this will ensure that the input features are scaled between ©.8 and 1.8.\n",
    "# USING svm-https://mgta.gmu.edu/courses/ml-with-python/handwrittenDigitRecognition.phpi:~:text=Remember¥%20that¥%20X_train¥%2@has%2068%2c0¢\n",
    "# Convert class vectors to binary class matrices\n",
    "num_classes = 10\n",
    "y_train = np.eye(num_classes)[y_train] # Return a 2-D array with ones on the diagonal and zeros elsewhere.\n",
    "y_test = np.eye(num_classes)[y_test] # f your particular categories is present then it mark as 1 else @ in remain row\n",
    "     "
   ]
  },
  {
   "cell_type": "code",
   "execution_count": 10,
   "metadata": {},
   "outputs": [],
   "source": [
    "# Define the model architecture\n",
    "model = Sequential()\n",
    "model.add(Dense(512, activation='relu', input_shape=(784,))) # The input_shape argument is passed to the foremost layer. It comprises otf\n",
    "model.add(Dropout(0.2)) # DROP OUT RATIO 20%\n",
    "model.add(Dense(512, activation='relu')) #returns a sequence of vectors of dimension 512\n",
    "model. add(Dropout(0.2))\n",
    "model.add(Dense(num_classes, activation='softmax'))"
   ]
  },
  {
   "cell_type": "code",
   "execution_count": 11,
   "metadata": {},
   "outputs": [],
   "source": [
    "# Compile the model\n",
    "model. compile(loss='categorical_crossentropy', #for  multi-class classifier problem\n",
    "optimizer=RMSprop(),\n",
    "metrics=['accuracy'])\n",
    "     "
   ]
  },
  {
   "cell_type": "code",
   "execution_count": 12,
   "metadata": {},
   "outputs": [
    {
     "name": "stdout",
     "output_type": "stream",
     "text": [
      "Epoch 1/20\n",
      "469/469 [==============================] - 7s 14ms/step - loss: 0.2545 - accuracy: 0.9219 - val_loss: 0.1125 - val_accuracy: 0.9659\n",
      "Epoch 2/20\n",
      "469/469 [==============================] - 6s 12ms/step - loss: 0.1048 - accuracy: 0.9675 - val_loss: 0.0818 - val_accuracy: 0.9741\n",
      "Epoch 3/20\n",
      "469/469 [==============================] - 6s 13ms/step - loss: 0.0739 - accuracy: 0.9769 - val_loss: 0.0722 - val_accuracy: 0.9785\n",
      "Epoch 4/20\n",
      "469/469 [==============================] - 6s 12ms/step - loss: 0.0580 - accuracy: 0.9821 - val_loss: 0.0779 - val_accuracy: 0.9772\n",
      "Epoch 5/20\n",
      "469/469 [==============================] - 6s 13ms/step - loss: 0.0466 - accuracy: 0.9853 - val_loss: 0.0711 - val_accuracy: 0.9805\n",
      "Epoch 6/20\n",
      "469/469 [==============================] - 6s 12ms/step - loss: 0.0392 - accuracy: 0.9875 - val_loss: 0.0612 - val_accuracy: 0.9827\n",
      "Epoch 7/20\n",
      "469/469 [==============================] - 6s 12ms/step - loss: 0.0331 - accuracy: 0.9888 - val_loss: 0.0716 - val_accuracy: 0.9807\n",
      "Epoch 8/20\n",
      "469/469 [==============================] - 6s 12ms/step - loss: 0.0284 - accuracy: 0.9910 - val_loss: 0.0640 - val_accuracy: 0.9827\n",
      "Epoch 9/20\n",
      "469/469 [==============================] - 6s 12ms/step - loss: 0.0260 - accuracy: 0.9919 - val_loss: 0.0711 - val_accuracy: 0.9813\n",
      "Epoch 10/20\n",
      "469/469 [==============================] - 6s 13ms/step - loss: 0.0216 - accuracy: 0.9930 - val_loss: 0.0772 - val_accuracy: 0.9811\n",
      "Epoch 11/20\n",
      "469/469 [==============================] - 6s 12ms/step - loss: 0.0204 - accuracy: 0.9935 - val_loss: 0.0768 - val_accuracy: 0.9824\n",
      "Epoch 12/20\n",
      "469/469 [==============================] - 6s 13ms/step - loss: 0.0195 - accuracy: 0.9937 - val_loss: 0.0725 - val_accuracy: 0.9837\n",
      "Epoch 13/20\n",
      "469/469 [==============================] - 6s 13ms/step - loss: 0.0163 - accuracy: 0.9950 - val_loss: 0.0813 - val_accuracy: 0.9827\n",
      "Epoch 14/20\n",
      "469/469 [==============================] - 7s 14ms/step - loss: 0.0141 - accuracy: 0.9955 - val_loss: 0.0801 - val_accuracy: 0.9841\n",
      "Epoch 15/20\n",
      "469/469 [==============================] - 5s 12ms/step - loss: 0.0138 - accuracy: 0.9955 - val_loss: 0.0713 - val_accuracy: 0.9836\n",
      "Epoch 16/20\n",
      "469/469 [==============================] - 6s 12ms/step - loss: 0.0142 - accuracy: 0.9957 - val_loss: 0.0757 - val_accuracy: 0.9843\n",
      "Epoch 17/20\n",
      "469/469 [==============================] - 6s 13ms/step - loss: 0.0123 - accuracy: 0.9959 - val_loss: 0.0859 - val_accuracy: 0.9845\n",
      "Epoch 18/20\n",
      "469/469 [==============================] - 6s 13ms/step - loss: 0.0110 - accuracy: 0.9966 - val_loss: 0.0809 - val_accuracy: 0.9841\n",
      "Epoch 19/20\n",
      "469/469 [==============================] - 7s 14ms/step - loss: 0.0104 - accuracy: 0.9965 - val_loss: 0.0902 - val_accuracy: 0.9830\n",
      "Epoch 20/20\n",
      "469/469 [==============================] - 6s 13ms/step - loss: 0.0098 - accuracy: 0.9968 - val_loss: 0.0946 - val_accuracy: 0.9840\n"
     ]
    }
   ],
   "source": [
    "# Train the model\n",
    "# for a multi-class classification problem\n",
    "batch_size = 128 # batch_size argument is passed to the layer to define a batch size for the 1nputs.\n",
    "epochs = 20\n",
    "history = model.fit(x_train, y_train,\n",
    "batch_size=batch_size,\n",
    "epochs=epochs,\n",
    "verbose=1, # verbose=1 will show you an animated progress bar eg. [============]\n",
    "validation_data=(x_test, y_test)) # Using validation_data means you are providing the training set and validation set\n",
    "# validation_split means you only provide a training set and keras splits it into\n"
   ]
  },
  {
   "cell_type": "code",
   "execution_count": 13,
   "metadata": {},
   "outputs": [
    {
     "name": "stdout",
     "output_type": "stream",
     "text": [
      "Test loss: 0.09460555762052536\n",
      "Test accuracy: 0.984000027179718\n"
     ]
    }
   ],
   "source": [
    "# Evaluate the model\n",
    "score = model.evaluate(x_test, y_test, verbose=8)\n",
    "print('Test loss:', score[0])\n",
    "print('Test accuracy:', score[1])"
   ]
  },
  {
   "cell_type": "code",
   "execution_count": null,
   "metadata": {},
   "outputs": [],
   "source": []
  }
 ],
 "metadata": {
  "kernelspec": {
   "display_name": "Python 3",
   "language": "python",
   "name": "python3"
  },
  "language_info": {
   "codemirror_mode": {
    "name": "ipython",
    "version": 3
   },
   "file_extension": ".py",
   "mimetype": "text/x-python",
   "name": "python",
   "nbconvert_exporter": "python",
   "pygments_lexer": "ipython3",
   "version": "3.8.3"
  }
 },
 "nbformat": 4,
 "nbformat_minor": 4
}
